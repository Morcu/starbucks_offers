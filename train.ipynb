{
 "cells": [
  {
   "cell_type": "code",
   "execution_count": 1,
   "metadata": {},
   "outputs": [],
   "source": [
    "import pandas as pd\n",
    "import numpy as np\n",
    "import torch\n",
    "\n",
    "from sklearn.model_selection import train_test_split\n",
    "from sklearn.metrics import classification_report\n",
    "import xgboost as xgb\n",
    "from skmultilearn.problem_transform import BinaryRelevance\n",
    "from sklearn.naive_bayes import GaussianNB\n",
    "from skmultilearn.problem_transform import ClassifierChain\n",
    "from skmultilearn.problem_transform import LabelPowerset\n",
    "from skmultilearn.adapt import MLkNN\n",
    "\n",
    "from torch import nn, optim\n",
    "import torch.nn.functional as F"
   ]
  },
  {
   "cell_type": "code",
   "execution_count": 1,
   "metadata": {},
   "outputs": [
    {
     "name": "stdout",
     "output_type": "stream",
     "text": [
      "Collecting scikit-multilearn\n",
      "\u001b[?25l  Downloading https://files.pythonhosted.org/packages/bb/1f/e6ff649c72a1cdf2c7a1d31eb21705110ce1c5d3e7e26b2cc300e1637272/scikit_multilearn-0.2.0-py3-none-any.whl (89kB)\n",
      "\u001b[K    100% |████████████████████████████████| 92kB 4.1MB/s ta 0:00:011\n",
      "\u001b[?25hInstalling collected packages: scikit-multilearn\n",
      "Successfully installed scikit-multilearn-0.2.0\n",
      "Collecting xgboost\n",
      "\u001b[?25l  Downloading https://files.pythonhosted.org/packages/c1/24/5fe7237b2eca13ee0cfb100bec8c23f4e69ce9df852a64b0493d49dae4e0/xgboost-0.90-py2.py3-none-manylinux1_x86_64.whl (142.8MB)\n",
      "\u001b[K    100% |████████████████████████████████| 142.8MB 246kB/s eta 0:00:01 6% |██                              | 8.8MB 34.0MB/s eta 0:00:04    8% |██▋                             | 11.6MB 33.8MB/s eta 0:00:04    9% |███                             | 13.0MB 29.7MB/s eta 0:00:05    11% |███▌                            | 15.8MB 30.8MB/s eta 0:00:05    12% |███▉                            | 17.3MB 25.3MB/s eta 0:00:05    12% |████▏                           | 18.5MB 24.0MB/s eta 0:00:06    15% |█████                           | 22.4MB 29.8MB/s eta 0:00:05    18% |█████▉                          | 26.1MB 27.1MB/s eta 0:00:05    20% |██████▋                         | 29.7MB 23.1MB/s eta 0:00:05    21% |███████                         | 31.0MB 28.5MB/s eta 0:00:04    28% |█████████▏                      | 40.7MB 21.8MB/s eta 0:00:05    30% |█████████▋                      | 43.0MB 22.1MB/s eta 0:00:05    32% |██████████▍                     | 46.5MB 24.6MB/s eta 0:00:04    34% |███████████                     | 48.8MB 26.1MB/s eta 0:00:04    35% |███████████▌                    | 51.1MB 24.4MB/s eta 0:00:04    39% |████████████▊                   | 56.9MB 22.6MB/s eta 0:00:04    42% |█████████████▌                  | 60.5MB 19.5MB/s eta 0:00:05    43% |██████████████                  | 62.5MB 15.4MB/s eta 0:00:06    44% |██████████████▎                 | 63.8MB 21.3MB/s eta 0:00:04    48% |███████████████▌                | 69.1MB 25.5MB/s eta 0:00:03    49% |███████████████▊                | 70.2MB 21.6MB/s eta 0:00:04    50% |████████████████                | 71.5MB 27.3MB/s eta 0:00:03    50% |████████████████▎               | 72.7MB 23.2MB/s eta 0:00:04    52% |████████████████▉               | 74.9MB 27.1MB/s eta 0:00:03    53% |█████████████████               | 76.1MB 21.7MB/s eta 0:00:04    54% |█████████████████▎              | 77.2MB 16.0MB/s eta 0:00:05    56% |██████████████████              | 80.1MB 24.8MB/s eta 0:00:03    56% |██████████████████▏             | 81.3MB 22.9MB/s eta 0:00:03    58% |██████████████████▋             | 83.3MB 22.3MB/s eta 0:00:03    58% |██████████████████▉             | 84.2MB 23.8MB/s eta 0:00:03    59% |███████████████████▏            | 85.4MB 24.6MB/s eta 0:00:03    60% |███████████████████▍            | 86.5MB 23.0MB/s eta 0:00:03    61% |███████████████████▋            | 87.5MB 28.8MB/s eta 0:00:02    62% |████████████████████            | 89.7MB 22.7MB/s eta 0:00:03    65% |████████████████████▉           | 93.1MB 29.6MB/s eta 0:00:02    66% |█████████████████████▏          | 94.3MB 19.6MB/s eta 0:00:03    67% |█████████████████████▋          | 96.4MB 23.0MB/s eta 0:00:03    68% |█████████████████████▉          | 97.5MB 27.1MB/s eta 0:00:02    69% |██████████████████████          | 98.7MB 19.9MB/s eta 0:00:03    70% |██████████████████████▌         | 100.7MB 21.9MB/s eta 0:00:02    71% |██████████████████████▊         | 101.4MB 18.0MB/s eta 0:00:03    71% |███████████████████████         | 102.5MB 19.0MB/s eta 0:00:03    72% |███████████████████████▎        | 103.7MB 32.4MB/s eta 0:00:02    73% |███████████████████████▍        | 104.6MB 14.7MB/s eta 0:00:03    73% |███████████████████████▊        | 105.7MB 28.6MB/s eta 0:00:02    74% |████████████████████████        | 106.9MB 19.0MB/s eta 0:00:02    76% |████████████████████████▍       | 108.9MB 20.1MB/s eta 0:00:02    77% |████████████████████████▋       | 110.0MB 24.4MB/s eta 0:00:02    77% |█████████████████████████       | 111.3MB 28.5MB/s eta 0:00:02    78% |█████████████████████████▏      | 112.5MB 21.3MB/s eta 0:00:02    79% |█████████████████████████▌      | 113.6MB 19.8MB/s eta 0:00:02    80% |█████████████████████████▊      | 114.7MB 25.5MB/s eta 0:00:02    81% |██████████████████████████▏     | 117.0MB 25.6MB/s eta 0:00:02    82% |██████████████████████████▌     | 118.2MB 32.3MB/s eta 0:00:01    83% |██████████████████████████▊     | 119.5MB 30.7MB/s eta 0:00:01    84% |███████████████████████████     | 120.7MB 27.0MB/s eta 0:00:01    86% |███████████████████████████▌    | 123.0MB 19.1MB/s eta 0:00:02    87% |███████████████████████████▉    | 124.3MB 30.3MB/s eta 0:00:01    87% |████████████████████████████▏   | 125.7MB 33.4MB/s eta 0:00:01    88% |████████████████████████████▍   | 126.6MB 17.3MB/s eta 0:00:01    89% |████████████████████████████▋   | 127.9MB 39.6MB/s eta 0:00:01    91% |█████████████████████████████▏  | 130.0MB 18.9MB/s eta 0:00:01    91% |█████████████████████████████▍  | 130.9MB 18.5MB/s eta 0:00:01    92% |█████████████████████████████▋  | 132.1MB 22.9MB/s eta 0:00:01    93% |██████████████████████████████  | 134.2MB 22.5MB/s eta 0:00:01    95% |██████████████████████████████▌ | 136.2MB 19.2MB/s eta 0:00:01    97% |███████████████████████████████ | 138.6MB 23.9MB/s eta 0:00:01    97% |███████████████████████████████▍| 139.8MB 37.5MB/s eta 0:00:01    98% |███████████████████████████████▋| 140.9MB 20.7MB/s eta 0:00:01\n",
      "\u001b[?25hRequirement already satisfied: scipy in /opt/conda/lib/python3.6/site-packages (from xgboost) (0.19.1)\n",
      "Requirement already satisfied: numpy in /opt/conda/lib/python3.6/site-packages (from xgboost) (1.12.1)\n",
      "Installing collected packages: xgboost\n",
      "Successfully installed xgboost-0.90\n"
     ]
    }
   ],
   "source": [
    "!pip install scikit-multilearn --user\n",
    "!pip install xgboost --user\n"
   ]
  },
  {
   "cell_type": "markdown",
   "metadata": {},
   "source": [
    "## 1)"
   ]
  },
  {
   "cell_type": "code",
   "execution_count": 2,
   "metadata": {},
   "outputs": [],
   "source": [
    "# read dataset\n",
    "\n",
    "x_dataset = pd.read_pickle(\"./x_dataset.pkl\")\n",
    "y_dataset = pd.read_pickle(\"./y_dataset.pkl\")\n"
   ]
  },
  {
   "cell_type": "code",
   "execution_count": 3,
   "metadata": {},
   "outputs": [],
   "source": [
    "# del unused columns\n",
    "\n",
    "del x_dataset[\"id\"]\n",
    "del y_dataset[\"user_id\"]"
   ]
  },
  {
   "cell_type": "code",
   "execution_count": 4,
   "metadata": {},
   "outputs": [],
   "source": [
    "y_dataset = y_dataset.astype('float64')"
   ]
  },
  {
   "cell_type": "code",
   "execution_count": 19,
   "metadata": {},
   "outputs": [
    {
     "data": {
      "text/plain": [
       "index                               float64\n",
       "ae264e3637204a6fb9bb56bc8210ddfd    float64\n",
       "4d5c57ea9a6940dd891ad53e9dbe8da0    float64\n",
       "3f207df678b143eea3cee63160fa8bed    float64\n",
       "9b98b8c7a33c4b65b9aebfe6a799e6d9    float64\n",
       "0b1e1539f2cc45b7b9fa7c272da2e1d7    float64\n",
       "2298d6c36e964ae4a3e7e9706d1fb8c2    float64\n",
       "fafdcd668e3743c1bb461111dcafc2a4    float64\n",
       "5a8bc65990b245e5a138643cd4eb9837    float64\n",
       "f19421c1d4aa40978ebb69ca19b0e20d    float64\n",
       "2906b810c7d4411798c6938adc9daaa5    float64\n",
       "dtype: object"
      ]
     },
     "execution_count": 19,
     "metadata": {},
     "output_type": "execute_result"
    }
   ],
   "source": [
    "y_dataset.dtypes"
   ]
  },
  {
   "cell_type": "code",
   "execution_count": 20,
   "metadata": {},
   "outputs": [
    {
     "data": {
      "text/html": [
       "<div>\n",
       "<style scoped>\n",
       "    .dataframe tbody tr th:only-of-type {\n",
       "        vertical-align: middle;\n",
       "    }\n",
       "\n",
       "    .dataframe tbody tr th {\n",
       "        vertical-align: top;\n",
       "    }\n",
       "\n",
       "    .dataframe thead th {\n",
       "        text-align: right;\n",
       "    }\n",
       "</style>\n",
       "<table border=\"1\" class=\"dataframe\">\n",
       "  <thead>\n",
       "    <tr style=\"text-align: right;\">\n",
       "      <th></th>\n",
       "      <th>age</th>\n",
       "      <th>income</th>\n",
       "      <th>user_day</th>\n",
       "      <th>gender_F</th>\n",
       "      <th>gender_M</th>\n",
       "      <th>gender_O</th>\n",
       "    </tr>\n",
       "  </thead>\n",
       "  <tbody>\n",
       "    <tr>\n",
       "      <th>1</th>\n",
       "      <td>0.445783</td>\n",
       "      <td>0.911111</td>\n",
       "      <td>0.206253</td>\n",
       "      <td>1</td>\n",
       "      <td>0</td>\n",
       "      <td>0</td>\n",
       "    </tr>\n",
       "    <tr>\n",
       "      <th>3</th>\n",
       "      <td>0.686747</td>\n",
       "      <td>0.777778</td>\n",
       "      <td>0.243006</td>\n",
       "      <td>1</td>\n",
       "      <td>0</td>\n",
       "      <td>0</td>\n",
       "    </tr>\n",
       "    <tr>\n",
       "      <th>5</th>\n",
       "      <td>0.602410</td>\n",
       "      <td>0.444444</td>\n",
       "      <td>0.049918</td>\n",
       "      <td>0</td>\n",
       "      <td>1</td>\n",
       "      <td>0</td>\n",
       "    </tr>\n",
       "    <tr>\n",
       "      <th>8</th>\n",
       "      <td>0.566265</td>\n",
       "      <td>0.255556</td>\n",
       "      <td>0.091607</td>\n",
       "      <td>0</td>\n",
       "      <td>1</td>\n",
       "      <td>0</td>\n",
       "    </tr>\n",
       "    <tr>\n",
       "      <th>12</th>\n",
       "      <td>0.481928</td>\n",
       "      <td>0.233333</td>\n",
       "      <td>0.140976</td>\n",
       "      <td>0</td>\n",
       "      <td>1</td>\n",
       "      <td>0</td>\n",
       "    </tr>\n",
       "  </tbody>\n",
       "</table>\n",
       "</div>"
      ],
      "text/plain": [
       "         age    income  user_day  gender_F  gender_M  gender_O\n",
       "1   0.445783  0.911111  0.206253         1         0         0\n",
       "3   0.686747  0.777778  0.243006         1         0         0\n",
       "5   0.602410  0.444444  0.049918         0         1         0\n",
       "8   0.566265  0.255556  0.091607         0         1         0\n",
       "12  0.481928  0.233333  0.140976         0         1         0"
      ]
     },
     "execution_count": 20,
     "metadata": {},
     "output_type": "execute_result"
    }
   ],
   "source": [
    "x_dataset.head()"
   ]
  },
  {
   "cell_type": "code",
   "execution_count": 21,
   "metadata": {},
   "outputs": [],
   "source": [
    "xTrain, xTest, yTrain, yTest = train_test_split(x_dataset, y_dataset, test_size = 0.2, random_state = 0)"
   ]
  },
  {
   "cell_type": "code",
   "execution_count": 22,
   "metadata": {},
   "outputs": [],
   "source": [
    "# if GPUs are available they are used\n",
    "\n",
    "device = torch.device(\"cuda\" if torch.cuda.is_available() else \"cpu\")\n"
   ]
  },
  {
   "cell_type": "code",
   "execution_count": 23,
   "metadata": {},
   "outputs": [],
   "source": [
    "# Clasifier with pytorch with n input features, 2 hidden layers and an output features\n",
    "\n",
    "class Classifier(nn.Module):\n",
    "    def __init__(self, input_features, hidden_dim_1, hidden_dim_2, output_dim):\n",
    "        \"\"\"\n",
    "        Initialize the model by setting up linear layers.\n",
    "        Use the input parameters to help define the layers of your model.\n",
    "        :param input_features: the number of input features in your training/test data\n",
    "        :param hidden_dim: helps define the number of nodes in the hidden layer(s)\n",
    "        :param output_dim: the number of outputs you want to produce\n",
    "        \"\"\"\n",
    "        super().__init__()\n",
    "        \n",
    "        #Fully conected\n",
    "        self.fc1 = nn.Linear(input_features, hidden_dim_1)\n",
    "        self.fc2 = nn.Linear(hidden_dim_1, hidden_dim_2)\n",
    "        self.fc3 = nn.Linear(hidden_dim_2, output_dim)\n",
    "       \n",
    "         # Droput \n",
    "        self.drop = nn.Dropout(0.3)\n",
    "        \n",
    "        # Softmax Layer\n",
    "        self.sig = nn.Sigmoid()\n",
    "        \n",
    "\n",
    "# The feed forward is with relu activation on layers, 0.3 of droput and a sigmoid activation\n",
    "\n",
    "    def forward(self, x):\n",
    "        \"\"\"\n",
    "        Perform a forward pass of our model on input features, x.\n",
    "        :param x: A batch of input features of size (batch_size, input_features)\n",
    "        :return: A single, sigmoid-activated value as output\n",
    "        \"\"\"\n",
    "        \n",
    "        # feedforward behavior\n",
    "        \n",
    "        out = F.relu(self.fc1(x))\n",
    "        out = self.drop(out)\n",
    "        out = F.relu(self.fc2(out))\n",
    "        out = self.drop(out)\n",
    "        out = self.fc3(out)\n",
    "        \n",
    "        return self.sig(out)\n",
    "        "
   ]
  },
  {
   "cell_type": "code",
   "execution_count": 24,
   "metadata": {},
   "outputs": [
    {
     "ename": "ModuleNotFoundError",
     "evalue": "No module named 'torchsummary'",
     "output_type": "error",
     "traceback": [
      "\u001b[0;31m---------------------------------------------------------------------------\u001b[0m",
      "\u001b[0;31mModuleNotFoundError\u001b[0m                       Traceback (most recent call last)",
      "\u001b[0;32m<ipython-input-24-000215d07730>\u001b[0m in \u001b[0;36m<module>\u001b[0;34m()\u001b[0m\n\u001b[0;32m----> 1\u001b[0;31m \u001b[0;32mfrom\u001b[0m \u001b[0mtorchsummary\u001b[0m \u001b[0;32mimport\u001b[0m \u001b[0msummary\u001b[0m\u001b[0;34m\u001b[0m\u001b[0m\n\u001b[0m",
      "\u001b[0;31mModuleNotFoundError\u001b[0m: No module named 'torchsummary'"
     ]
    }
   ],
   "source": [
    "from torchsummary import summary\n"
   ]
  },
  {
   "cell_type": "code",
   "execution_count": 25,
   "metadata": {},
   "outputs": [],
   "source": [
    "# This model has 6 inputs 2 hidden layers and 10 oputputs as there is 10 different offers\n",
    "\n",
    "model = Classifier(xTrain.shape[1], 16, 32, yTrain.shape[1]).to(device)\n"
   ]
  },
  {
   "cell_type": "code",
   "execution_count": 26,
   "metadata": {},
   "outputs": [
    {
     "data": {
      "text/plain": [
       "(6, 16, 32, 11)"
      ]
     },
     "execution_count": 26,
     "metadata": {},
     "output_type": "execute_result"
    }
   ],
   "source": [
    "xTrain.shape[1], 16, 32, yTrain.shape[1]"
   ]
  },
  {
   "cell_type": "code",
   "execution_count": 27,
   "metadata": {},
   "outputs": [],
   "source": [
    "\n",
    "criterion = nn.BCELoss()\n",
    "optimizer = optim.Adam(model.parameters(), lr=0.003)"
   ]
  },
  {
   "cell_type": "code",
   "execution_count": 28,
   "metadata": {},
   "outputs": [
    {
     "name": "stdout",
     "output_type": "stream",
     "text": [
      "Training loss: 0.30337950904152905\n",
      "Training loss: 0.29797648211548655\n",
      "Training loss: 0.297147302403637\n",
      "Training loss: 0.2966598218896223\n",
      "Training loss: 0.2969094497153587\n",
      "CPU times: user 35.9 s, sys: 3.28 s, total: 39.2 s\n",
      "Wall time: 39.6 s\n"
     ]
    }
   ],
   "source": [
    "%%time\n",
    "\n",
    "epochs = 5\n",
    "model = model.train()\n",
    "model = model.double()\n",
    "for e in range(epochs):\n",
    "    running_loss = 0\n",
    "    for x, y in zip(xTrain.values, yTrain.values):\n",
    "        x = torch.from_numpy(x).to(device)\n",
    "        y = torch.from_numpy(y).to(device)\n",
    "        log_ps = model(x)\n",
    "\n",
    "        loss = criterion(log_ps, y)\n",
    "        \n",
    "        optimizer.zero_grad()\n",
    "        loss.backward()\n",
    "        optimizer.step()\n",
    "        \n",
    "        running_loss += loss.item()\n",
    "    else:\n",
    "        print(f\"Training loss: {running_loss/len(xTrain)}\")"
   ]
  },
  {
   "cell_type": "code",
   "execution_count": 29,
   "metadata": {},
   "outputs": [
    {
     "name": "stdout",
     "output_type": "stream",
     "text": [
      "Test loss: 0.29830405286008266\n"
     ]
    }
   ],
   "source": [
    "model.eval()\n",
    "running_loss = 0\n",
    "for x, y in zip(xTest.values, yTest.values):\n",
    "    x = torch.from_numpy(x).to(device)\n",
    "    y = torch.from_numpy(y).to(device)\n",
    "    log_ps = model(x)\n",
    "\n",
    "    loss = criterion(log_ps, y)\n",
    "\n",
    "    optimizer.zero_grad()\n",
    "    running_loss += loss.item()\n",
    "else:\n",
    "    print(f\"Test loss: {running_loss/len(xTest)}\")"
   ]
  },
  {
   "cell_type": "markdown",
   "metadata": {},
   "source": [
    "## 1.1)"
   ]
  },
  {
   "cell_type": "code",
   "execution_count": 5,
   "metadata": {},
   "outputs": [],
   "source": [
    "\n",
    "y_dataset = pd.read_pickle(\"./y_dataset1.pkl\")"
   ]
  },
  {
   "cell_type": "code",
   "execution_count": 6,
   "metadata": {
    "scrolled": true
   },
   "outputs": [],
   "source": [
    "del y_dataset[\"user_id\"]"
   ]
  },
  {
   "cell_type": "code",
   "execution_count": 7,
   "metadata": {},
   "outputs": [],
   "source": [
    "y_dataset = y_dataset.astype('float64')"
   ]
  },
  {
   "cell_type": "code",
   "execution_count": 8,
   "metadata": {},
   "outputs": [
    {
     "data": {
      "text/html": [
       "<div>\n",
       "<style scoped>\n",
       "    .dataframe tbody tr th:only-of-type {\n",
       "        vertical-align: middle;\n",
       "    }\n",
       "\n",
       "    .dataframe tbody tr th {\n",
       "        vertical-align: top;\n",
       "    }\n",
       "\n",
       "    .dataframe thead th {\n",
       "        text-align: right;\n",
       "    }\n",
       "</style>\n",
       "<table border=\"1\" class=\"dataframe\">\n",
       "  <thead>\n",
       "    <tr style=\"text-align: right;\">\n",
       "      <th></th>\n",
       "      <th>age</th>\n",
       "      <th>income</th>\n",
       "      <th>user_day</th>\n",
       "      <th>gender_F</th>\n",
       "      <th>gender_M</th>\n",
       "      <th>gender_O</th>\n",
       "    </tr>\n",
       "  </thead>\n",
       "  <tbody>\n",
       "    <tr>\n",
       "      <th>1</th>\n",
       "      <td>0.445783</td>\n",
       "      <td>0.911111</td>\n",
       "      <td>0.206253</td>\n",
       "      <td>1</td>\n",
       "      <td>0</td>\n",
       "      <td>0</td>\n",
       "    </tr>\n",
       "    <tr>\n",
       "      <th>3</th>\n",
       "      <td>0.686747</td>\n",
       "      <td>0.777778</td>\n",
       "      <td>0.243006</td>\n",
       "      <td>1</td>\n",
       "      <td>0</td>\n",
       "      <td>0</td>\n",
       "    </tr>\n",
       "    <tr>\n",
       "      <th>5</th>\n",
       "      <td>0.602410</td>\n",
       "      <td>0.444444</td>\n",
       "      <td>0.049918</td>\n",
       "      <td>0</td>\n",
       "      <td>1</td>\n",
       "      <td>0</td>\n",
       "    </tr>\n",
       "    <tr>\n",
       "      <th>8</th>\n",
       "      <td>0.566265</td>\n",
       "      <td>0.255556</td>\n",
       "      <td>0.091607</td>\n",
       "      <td>0</td>\n",
       "      <td>1</td>\n",
       "      <td>0</td>\n",
       "    </tr>\n",
       "    <tr>\n",
       "      <th>12</th>\n",
       "      <td>0.481928</td>\n",
       "      <td>0.233333</td>\n",
       "      <td>0.140976</td>\n",
       "      <td>0</td>\n",
       "      <td>1</td>\n",
       "      <td>0</td>\n",
       "    </tr>\n",
       "  </tbody>\n",
       "</table>\n",
       "</div>"
      ],
      "text/plain": [
       "         age    income  user_day  gender_F  gender_M  gender_O\n",
       "1   0.445783  0.911111  0.206253         1         0         0\n",
       "3   0.686747  0.777778  0.243006         1         0         0\n",
       "5   0.602410  0.444444  0.049918         0         1         0\n",
       "8   0.566265  0.255556  0.091607         0         1         0\n",
       "12  0.481928  0.233333  0.140976         0         1         0"
      ]
     },
     "execution_count": 8,
     "metadata": {},
     "output_type": "execute_result"
    }
   ],
   "source": [
    "x_dataset.head()"
   ]
  },
  {
   "cell_type": "code",
   "execution_count": 9,
   "metadata": {},
   "outputs": [],
   "source": [
    "xTrain, xTest, yTrain, yTest = train_test_split(x_dataset, y_dataset, test_size = 0.2, random_state = 0)"
   ]
  },
  {
   "cell_type": "markdown",
   "metadata": {},
   "source": [
    "Different aprroaches using a combination of gaussian naive bayes and different clasifiers "
   ]
  },
  {
   "cell_type": "code",
   "execution_count": 10,
   "metadata": {},
   "outputs": [],
   "source": [
    "\n",
    "# initialize binary relevance multi-label classifier\n",
    "# with a gaussian naive bayes base classifier\n",
    "\n",
    "classifier = BinaryRelevance(GaussianNB())\n",
    "\n",
    "# train\n",
    "classifier.fit(xTrain, yTrain)\n",
    "\n",
    "# predict\n",
    "predictions = classifier.predict(xTest)"
   ]
  },
  {
   "cell_type": "code",
   "execution_count": 11,
   "metadata": {},
   "outputs": [
    {
     "name": "stdout",
     "output_type": "stream",
     "text": [
      "             precision    recall  f1-score   support\n",
      "\n",
      "          0       0.00      0.00      0.00         0\n",
      "          1       0.17      0.02      0.03       401\n",
      "          2       0.00      0.00      0.00       430\n",
      "          3       0.00      0.00      0.00         0\n",
      "          4       0.24      0.03      0.06       313\n",
      "          5       0.14      0.03      0.04       236\n",
      "          6       0.17      0.01      0.02       629\n",
      "          7       0.00      0.00      0.00       676\n",
      "          8       0.00      0.00      0.00         0\n",
      "          9       0.21      0.02      0.03       536\n",
      "         10       0.07      0.01      0.01       364\n",
      "\n",
      "avg / total       0.12      0.01      0.02      3585\n",
      "\n"
     ]
    },
    {
     "name": "stderr",
     "output_type": "stream",
     "text": [
      "/opt/conda/lib/python3.6/site-packages/sklearn/metrics/classification.py:1135: UndefinedMetricWarning: Precision and F-score are ill-defined and being set to 0.0 in labels with no predicted samples.\n",
      "  'precision', 'predicted', average, warn_for)\n",
      "/opt/conda/lib/python3.6/site-packages/sklearn/metrics/classification.py:1137: UndefinedMetricWarning: Recall and F-score are ill-defined and being set to 0.0 in labels with no true samples.\n",
      "  'recall', 'true', average, warn_for)\n"
     ]
    },
    {
     "data": {
      "text/plain": [
       "0.31062394603709947"
      ]
     },
     "execution_count": 11,
     "metadata": {},
     "output_type": "execute_result"
    }
   ],
   "source": [
    "from sklearn.metrics import accuracy_score\n",
    "print(classification_report(yTest, predictions))\n",
    "\n",
    "accuracy_score(yTest,predictions)\n"
   ]
  },
  {
   "cell_type": "code",
   "execution_count": 12,
   "metadata": {},
   "outputs": [
    {
     "name": "stdout",
     "output_type": "stream",
     "text": [
      "             precision    recall  f1-score   support\n",
      "\n",
      "          0       0.00      0.00      0.00         0\n",
      "          1       0.17      0.02      0.03       401\n",
      "          2       0.38      0.02      0.04       430\n",
      "          3       0.00      0.00      0.00         0\n",
      "          4       0.24      0.03      0.06       313\n",
      "          5       0.14      0.03      0.04       236\n",
      "          6       0.17      0.01      0.02       629\n",
      "          7       0.00      0.00      0.00       676\n",
      "          8       0.00      0.00      0.00         0\n",
      "          9       0.21      0.02      0.03       536\n",
      "         10       0.07      0.01      0.01       364\n",
      "\n",
      "avg / total       0.16      0.01      0.03      3585\n",
      "\n"
     ]
    },
    {
     "name": "stderr",
     "output_type": "stream",
     "text": [
      "/opt/conda/lib/python3.6/site-packages/sklearn/metrics/classification.py:1135: UndefinedMetricWarning: Precision and F-score are ill-defined and being set to 0.0 in labels with no predicted samples.\n",
      "  'precision', 'predicted', average, warn_for)\n",
      "/opt/conda/lib/python3.6/site-packages/sklearn/metrics/classification.py:1137: UndefinedMetricWarning: Recall and F-score are ill-defined and being set to 0.0 in labels with no true samples.\n",
      "  'recall', 'true', average, warn_for)\n"
     ]
    },
    {
     "data": {
      "text/plain": [
       "0.31062394603709947"
      ]
     },
     "execution_count": 12,
     "metadata": {},
     "output_type": "execute_result"
    }
   ],
   "source": [
    "# using classifier chains\n",
    "\n",
    "# initialize classifier chains multi-label classifier\n",
    "# with a gaussian naive bayes base classifier\n",
    "classifier = ClassifierChain(GaussianNB())\n",
    "\n",
    "# train\n",
    "classifier.fit(xTrain.values, yTrain.values)\n",
    "\n",
    "# predict\n",
    "predictions = classifier.predict(xTest)\n",
    "print(classification_report(yTest, predictions))\n",
    "\n",
    "accuracy_score(yTest,predictions)"
   ]
  },
  {
   "cell_type": "code",
   "execution_count": 13,
   "metadata": {},
   "outputs": [
    {
     "name": "stdout",
     "output_type": "stream",
     "text": [
      "             precision    recall  f1-score   support\n",
      "\n",
      "          0       0.00      0.00      0.00         0\n",
      "          1       0.13      0.58      0.22       401\n",
      "          2       0.14      0.61      0.23       430\n",
      "          3       0.00      0.00      0.00         0\n",
      "          4       0.11      0.29      0.16       313\n",
      "          5       0.09      0.29      0.14       236\n",
      "          6       0.20      0.57      0.30       629\n",
      "          7       0.25      0.53      0.34       676\n",
      "          8       0.00      0.00      0.00         0\n",
      "          9       0.18      0.39      0.25       536\n",
      "         10       0.12      0.68      0.20       364\n",
      "\n",
      "avg / total       0.17      0.51      0.25      3585\n",
      "\n"
     ]
    },
    {
     "name": "stderr",
     "output_type": "stream",
     "text": [
      "/opt/conda/lib/python3.6/site-packages/sklearn/metrics/classification.py:1135: UndefinedMetricWarning: Precision and F-score are ill-defined and being set to 0.0 in labels with no predicted samples.\n",
      "  'precision', 'predicted', average, warn_for)\n",
      "/opt/conda/lib/python3.6/site-packages/sklearn/metrics/classification.py:1137: UndefinedMetricWarning: Recall and F-score are ill-defined and being set to 0.0 in labels with no true samples.\n",
      "  'recall', 'true', average, warn_for)\n"
     ]
    },
    {
     "data": {
      "text/plain": [
       "0.00033726812816188871"
      ]
     },
     "execution_count": 13,
     "metadata": {},
     "output_type": "execute_result"
    }
   ],
   "source": [
    "# using Label Powerset\n",
    "\n",
    "# initialize Label Powerset multi-label classifier\n",
    "# with a gaussian naive bayes base classifier\n",
    "classifier = LabelPowerset(GaussianNB())\n",
    "\n",
    "# train\n",
    "classifier.fit(xTrain.values, yTrain.values)\n",
    "\n",
    "# predict\n",
    "predictions = classifier.predict(xTest)\n",
    "print(classification_report(yTest, predictions))\n",
    "\n",
    "accuracy_score(yTest.values,predictions)"
   ]
  },
  {
   "cell_type": "code",
   "execution_count": 14,
   "metadata": {},
   "outputs": [
    {
     "name": "stdout",
     "output_type": "stream",
     "text": [
      "             precision    recall  f1-score   support\n",
      "\n",
      "          0       0.00      0.00      0.00         0\n",
      "          1       0.00      0.00      0.00       401\n",
      "          2       0.00      0.00      0.00       430\n",
      "          3       0.00      0.00      0.00         0\n",
      "          4       0.33      0.00      0.01       313\n",
      "          5       0.00      0.00      0.00       236\n",
      "          6       0.40      0.00      0.01       629\n",
      "          7       0.11      0.00      0.01       676\n",
      "          8       0.00      0.00      0.00         0\n",
      "          9       0.12      0.00      0.01       536\n",
      "         10       0.00      0.00      0.00       364\n",
      "\n",
      "avg / total       0.14      0.00      0.00      3585\n",
      "\n",
      "0.31197301855\n",
      "CPU times: user 30.2 s, sys: 17.5 ms, total: 30.2 s\n",
      "Wall time: 30.5 s\n"
     ]
    },
    {
     "name": "stderr",
     "output_type": "stream",
     "text": [
      "/opt/conda/lib/python3.6/site-packages/sklearn/metrics/classification.py:1135: UndefinedMetricWarning: Precision and F-score are ill-defined and being set to 0.0 in labels with no predicted samples.\n",
      "  'precision', 'predicted', average, warn_for)\n",
      "/opt/conda/lib/python3.6/site-packages/sklearn/metrics/classification.py:1137: UndefinedMetricWarning: Recall and F-score are ill-defined and being set to 0.0 in labels with no true samples.\n",
      "  'recall', 'true', average, warn_for)\n"
     ]
    }
   ],
   "source": [
    "%%time\n",
    "\n",
    "classifier = MLkNN(k=20)\n",
    "\n",
    "# train\n",
    "classifier.fit(xTrain.values, yTrain.values)\n",
    "\n",
    "# predict\n",
    "predictions = classifier.predict(xTest)\n",
    "print(classification_report(yTest, predictions))\n",
    "\n",
    "print(accuracy_score(yTest,predictions))"
   ]
  },
  {
   "cell_type": "markdown",
   "metadata": {},
   "source": [
    "## 2) "
   ]
  },
  {
   "cell_type": "code",
   "execution_count": 15,
   "metadata": {},
   "outputs": [],
   "source": [
    "x_dataset2 = pd.read_pickle(\"./x_dataset.pkl\")\n",
    "y_dataset2 = pd.read_pickle(\"./y_dataset2.pkl\")\n"
   ]
  },
  {
   "cell_type": "code",
   "execution_count": 16,
   "metadata": {},
   "outputs": [],
   "source": [
    "del x_dataset2[\"id\"]\n",
    "del y_dataset2[\"user_id\"]"
   ]
  },
  {
   "cell_type": "code",
   "execution_count": 17,
   "metadata": {},
   "outputs": [],
   "source": [
    "y_dataset2 = y_dataset2.astype('category')\n",
    "y_dataset2 = y_dataset2.astype('float32')"
   ]
  },
  {
   "cell_type": "code",
   "execution_count": 18,
   "metadata": {},
   "outputs": [],
   "source": [
    "xTrain2, xTest2, yTrain2, yTest2 = train_test_split(x_dataset2, y_dataset2, test_size = 0.2, random_state = 0)"
   ]
  },
  {
   "cell_type": "markdown",
   "metadata": {},
   "source": [
    "This model is similar to the one before but in this case there is only 1 class on the output"
   ]
  },
  {
   "cell_type": "code",
   "execution_count": 42,
   "metadata": {},
   "outputs": [
    {
     "data": {
      "text/plain": [
       "(6, 16, 32, 1)"
      ]
     },
     "execution_count": 42,
     "metadata": {},
     "output_type": "execute_result"
    }
   ],
   "source": [
    "(xTrain2.shape[1], 16, 32, yTrain2.shape[1])"
   ]
  },
  {
   "cell_type": "code",
   "execution_count": 43,
   "metadata": {},
   "outputs": [],
   "source": [
    "model2 = Classifier(xTrain2.shape[1], 16, 32, yTrain2.shape[1]).to(device)\n",
    "criterion = nn.BCELoss()\n",
    "optimizer = optim.Adam(model.parameters(), lr=0.003)"
   ]
  },
  {
   "cell_type": "code",
   "execution_count": null,
   "metadata": {},
   "outputs": [],
   "source": []
  },
  {
   "cell_type": "code",
   "execution_count": 70,
   "metadata": {},
   "outputs": [
    {
     "name": "stdout",
     "output_type": "stream",
     "text": [
      "Training loss: 0.46055288286122276\n",
      "Training loss: 0.4597547679409771\n",
      "Training loss: 0.46333511777290276\n",
      "Training loss: 0.46155119092803887\n",
      "Training loss: 0.46172660176029084\n",
      "Training loss: 0.45398309065244313\n",
      "Training loss: 0.45834524047632014\n",
      "Training loss: 0.4638425834917475\n",
      "Training loss: 0.459261414452881\n",
      "Training loss: 0.4643605820263096\n",
      "Training loss: 0.46147775661121954\n",
      "Training loss: 0.4558530888989802\n",
      "Training loss: 0.4630111590192187\n",
      "Training loss: 0.45953423477297345\n",
      "Training loss: 0.46160491654638014\n",
      "CPU times: user 1min 47s, sys: 8.77 s, total: 1min 56s\n",
      "Wall time: 1min 57s\n"
     ]
    }
   ],
   "source": [
    "%%time\n",
    "\n",
    "epochs = 15\n",
    "model2 = model2.double()\n",
    "for e in range(epochs):\n",
    "    running_loss = 0\n",
    "    for x, y in zip(xTrain2.values, yTrain2.values):\n",
    "        x = torch.from_numpy(x).to(device)\n",
    "        y = torch.from_numpy(y).to(device)\n",
    "        y = y.double()\n",
    "        log_ps = model2(x)\n",
    "\n",
    "        loss = criterion(log_ps, y)\n",
    "        \n",
    "        optimizer.zero_grad()\n",
    "        loss.backward()\n",
    "        optimizer.step()\n",
    "        \n",
    "        running_loss += loss.item()\n",
    "    else:\n",
    "        print(f\"Training loss: {running_loss/len(xTrain2)}\")"
   ]
  },
  {
   "cell_type": "markdown",
   "metadata": {},
   "source": [
    "Trying an xgboos clasification to clasify only 1 label (the top rewarded)"
   ]
  },
  {
   "cell_type": "code",
   "execution_count": 71,
   "metadata": {},
   "outputs": [
    {
     "name": "stdout",
     "output_type": "stream",
     "text": [
      "Test loss: 0.45583873448677675\n"
     ]
    }
   ],
   "source": [
    "model.eval()\n",
    "running_loss = 0\n",
    "for x, y in zip(xTest2.values, yTest2.values):\n",
    "    x = torch.from_numpy(x).to(device)\n",
    "    y = torch.from_numpy(y).to(device)\n",
    "    y = y.double()\n",
    "\n",
    "    log_ps = model2(x)\n",
    "\n",
    "    loss = criterion(log_ps, y)\n",
    "\n",
    "    optimizer.zero_grad()\n",
    "    running_loss += loss.item()\n",
    "else:\n",
    "    print(f\"Test loss: {running_loss/len(xTest2)}\")"
   ]
  },
  {
   "cell_type": "code",
   "execution_count": 33,
   "metadata": {},
   "outputs": [],
   "source": [
    "\n",
    "dtrain = xgb.DMatrix(data=xTrain2, label=yTrain2.values)\n",
    "dtest = xgb.DMatrix(data=xTest2)"
   ]
  },
  {
   "cell_type": "code",
   "execution_count": 34,
   "metadata": {},
   "outputs": [],
   "source": [
    "params = {\n",
    "    'objective': 'multi:softmax',  # error evaluation for multiclass training\n",
    "    'num_class': 10,\n",
    "    'n_gpus': 0\n",
    "}"
   ]
  },
  {
   "cell_type": "code",
   "execution_count": 35,
   "metadata": {},
   "outputs": [
    {
     "name": "stdout",
     "output_type": "stream",
     "text": [
      "             precision    recall  f1-score   support\n",
      "\n",
      "          0       0.41      0.97      0.58      1209\n",
      "          1       0.20      0.02      0.04       423\n",
      "          3       0.17      0.01      0.01       198\n",
      "          4       0.00      0.00      0.00       109\n",
      "          5       0.12      0.01      0.02       313\n",
      "          6       0.26      0.02      0.03       275\n",
      "          8       0.38      0.01      0.02       349\n",
      "          9       0.00      0.00      0.00        89\n",
      "\n",
      "avg / total       0.29      0.40      0.25      2965\n",
      "\n"
     ]
    },
    {
     "name": "stderr",
     "output_type": "stream",
     "text": [
      "/opt/conda/lib/python3.6/site-packages/sklearn/metrics/classification.py:1135: UndefinedMetricWarning: Precision and F-score are ill-defined and being set to 0.0 in labels with no predicted samples.\n",
      "  'precision', 'predicted', average, warn_for)\n"
     ]
    }
   ],
   "source": [
    "bst = xgb.train(params, dtrain)\n",
    "pred = bst.predict(dtest)\n",
    "\n",
    "from sklearn.metrics import classification_report\n",
    "\n",
    "print(classification_report(yTest2, pred))"
   ]
  },
  {
   "cell_type": "markdown",
   "metadata": {},
   "source": [
    "## 4)"
   ]
  },
  {
   "cell_type": "code",
   "execution_count": 25,
   "metadata": {},
   "outputs": [],
   "source": [
    "x_dataset4 = pd.read_pickle(\"./y_dataset4.pkl\")\n",
    "x_dataset4 = x_dataset4.reset_index()\n",
    "y_dataset4 = x_dataset4[\"class\"]\n",
    "\n",
    "del x_dataset4[\"user_id\"]\n",
    "del x_dataset4[\"class\"]"
   ]
  },
  {
   "cell_type": "code",
   "execution_count": 26,
   "metadata": {},
   "outputs": [],
   "source": [
    "x_dataset4 = x_dataset4.astype('float64')\n",
    "y_dataset4 = y_dataset4.astype('float64')"
   ]
  },
  {
   "cell_type": "code",
   "execution_count": 27,
   "metadata": {
    "scrolled": true
   },
   "outputs": [
    {
     "data": {
      "text/html": [
       "<div>\n",
       "<style scoped>\n",
       "    .dataframe tbody tr th:only-of-type {\n",
       "        vertical-align: middle;\n",
       "    }\n",
       "\n",
       "    .dataframe tbody tr th {\n",
       "        vertical-align: top;\n",
       "    }\n",
       "\n",
       "    .dataframe thead th {\n",
       "        text-align: right;\n",
       "    }\n",
       "</style>\n",
       "<table border=\"1\" class=\"dataframe\">\n",
       "  <thead>\n",
       "    <tr style=\"text-align: right;\">\n",
       "      <th></th>\n",
       "      <th>index</th>\n",
       "      <th>age</th>\n",
       "      <th>income</th>\n",
       "      <th>user_day</th>\n",
       "      <th>ae264e3637204a6fb9bb56bc8210ddfd</th>\n",
       "      <th>4d5c57ea9a6940dd891ad53e9dbe8da0</th>\n",
       "      <th>3f207df678b143eea3cee63160fa8bed</th>\n",
       "      <th>9b98b8c7a33c4b65b9aebfe6a799e6d9</th>\n",
       "      <th>0b1e1539f2cc45b7b9fa7c272da2e1d7</th>\n",
       "      <th>2298d6c36e964ae4a3e7e9706d1fb8c2</th>\n",
       "      <th>fafdcd668e3743c1bb461111dcafc2a4</th>\n",
       "      <th>5a8bc65990b245e5a138643cd4eb9837</th>\n",
       "      <th>f19421c1d4aa40978ebb69ca19b0e20d</th>\n",
       "      <th>2906b810c7d4411798c6938adc9daaa5</th>\n",
       "      <th>gender_F</th>\n",
       "      <th>gender_M</th>\n",
       "      <th>gender_O</th>\n",
       "    </tr>\n",
       "  </thead>\n",
       "  <tbody>\n",
       "    <tr>\n",
       "      <th>0</th>\n",
       "      <td>0.0</td>\n",
       "      <td>0.445783</td>\n",
       "      <td>0.911111</td>\n",
       "      <td>0.206253</td>\n",
       "      <td>1.0</td>\n",
       "      <td>0.0</td>\n",
       "      <td>0.0</td>\n",
       "      <td>0.0</td>\n",
       "      <td>0.0</td>\n",
       "      <td>0.0</td>\n",
       "      <td>0.0</td>\n",
       "      <td>0.0</td>\n",
       "      <td>0.0</td>\n",
       "      <td>0.0</td>\n",
       "      <td>1.0</td>\n",
       "      <td>0.0</td>\n",
       "      <td>0.0</td>\n",
       "    </tr>\n",
       "    <tr>\n",
       "      <th>1</th>\n",
       "      <td>0.0</td>\n",
       "      <td>0.445783</td>\n",
       "      <td>0.911111</td>\n",
       "      <td>0.206253</td>\n",
       "      <td>0.0</td>\n",
       "      <td>1.0</td>\n",
       "      <td>0.0</td>\n",
       "      <td>0.0</td>\n",
       "      <td>0.0</td>\n",
       "      <td>0.0</td>\n",
       "      <td>0.0</td>\n",
       "      <td>0.0</td>\n",
       "      <td>0.0</td>\n",
       "      <td>0.0</td>\n",
       "      <td>1.0</td>\n",
       "      <td>0.0</td>\n",
       "      <td>0.0</td>\n",
       "    </tr>\n",
       "    <tr>\n",
       "      <th>2</th>\n",
       "      <td>0.0</td>\n",
       "      <td>0.445783</td>\n",
       "      <td>0.911111</td>\n",
       "      <td>0.206253</td>\n",
       "      <td>0.0</td>\n",
       "      <td>0.0</td>\n",
       "      <td>1.0</td>\n",
       "      <td>0.0</td>\n",
       "      <td>0.0</td>\n",
       "      <td>0.0</td>\n",
       "      <td>0.0</td>\n",
       "      <td>0.0</td>\n",
       "      <td>0.0</td>\n",
       "      <td>0.0</td>\n",
       "      <td>1.0</td>\n",
       "      <td>0.0</td>\n",
       "      <td>0.0</td>\n",
       "    </tr>\n",
       "    <tr>\n",
       "      <th>3</th>\n",
       "      <td>0.0</td>\n",
       "      <td>0.445783</td>\n",
       "      <td>0.911111</td>\n",
       "      <td>0.206253</td>\n",
       "      <td>0.0</td>\n",
       "      <td>0.0</td>\n",
       "      <td>0.0</td>\n",
       "      <td>1.0</td>\n",
       "      <td>0.0</td>\n",
       "      <td>0.0</td>\n",
       "      <td>0.0</td>\n",
       "      <td>0.0</td>\n",
       "      <td>0.0</td>\n",
       "      <td>0.0</td>\n",
       "      <td>1.0</td>\n",
       "      <td>0.0</td>\n",
       "      <td>0.0</td>\n",
       "    </tr>\n",
       "    <tr>\n",
       "      <th>4</th>\n",
       "      <td>0.0</td>\n",
       "      <td>0.445783</td>\n",
       "      <td>0.911111</td>\n",
       "      <td>0.206253</td>\n",
       "      <td>0.0</td>\n",
       "      <td>0.0</td>\n",
       "      <td>0.0</td>\n",
       "      <td>0.0</td>\n",
       "      <td>1.0</td>\n",
       "      <td>0.0</td>\n",
       "      <td>0.0</td>\n",
       "      <td>0.0</td>\n",
       "      <td>0.0</td>\n",
       "      <td>0.0</td>\n",
       "      <td>1.0</td>\n",
       "      <td>0.0</td>\n",
       "      <td>0.0</td>\n",
       "    </tr>\n",
       "  </tbody>\n",
       "</table>\n",
       "</div>"
      ],
      "text/plain": [
       "   index       age    income  user_day  ae264e3637204a6fb9bb56bc8210ddfd  \\\n",
       "0    0.0  0.445783  0.911111  0.206253                               1.0   \n",
       "1    0.0  0.445783  0.911111  0.206253                               0.0   \n",
       "2    0.0  0.445783  0.911111  0.206253                               0.0   \n",
       "3    0.0  0.445783  0.911111  0.206253                               0.0   \n",
       "4    0.0  0.445783  0.911111  0.206253                               0.0   \n",
       "\n",
       "   4d5c57ea9a6940dd891ad53e9dbe8da0  3f207df678b143eea3cee63160fa8bed  \\\n",
       "0                               0.0                               0.0   \n",
       "1                               1.0                               0.0   \n",
       "2                               0.0                               1.0   \n",
       "3                               0.0                               0.0   \n",
       "4                               0.0                               0.0   \n",
       "\n",
       "   9b98b8c7a33c4b65b9aebfe6a799e6d9  0b1e1539f2cc45b7b9fa7c272da2e1d7  \\\n",
       "0                               0.0                               0.0   \n",
       "1                               0.0                               0.0   \n",
       "2                               0.0                               0.0   \n",
       "3                               1.0                               0.0   \n",
       "4                               0.0                               1.0   \n",
       "\n",
       "   2298d6c36e964ae4a3e7e9706d1fb8c2  fafdcd668e3743c1bb461111dcafc2a4  \\\n",
       "0                               0.0                               0.0   \n",
       "1                               0.0                               0.0   \n",
       "2                               0.0                               0.0   \n",
       "3                               0.0                               0.0   \n",
       "4                               0.0                               0.0   \n",
       "\n",
       "   5a8bc65990b245e5a138643cd4eb9837  f19421c1d4aa40978ebb69ca19b0e20d  \\\n",
       "0                               0.0                               0.0   \n",
       "1                               0.0                               0.0   \n",
       "2                               0.0                               0.0   \n",
       "3                               0.0                               0.0   \n",
       "4                               0.0                               0.0   \n",
       "\n",
       "   2906b810c7d4411798c6938adc9daaa5  gender_F  gender_M  gender_O  \n",
       "0                               0.0       1.0       0.0       0.0  \n",
       "1                               0.0       1.0       0.0       0.0  \n",
       "2                               0.0       1.0       0.0       0.0  \n",
       "3                               0.0       1.0       0.0       0.0  \n",
       "4                               0.0       1.0       0.0       0.0  "
      ]
     },
     "execution_count": 27,
     "metadata": {},
     "output_type": "execute_result"
    }
   ],
   "source": [
    "x_dataset4.head()"
   ]
  },
  {
   "cell_type": "code",
   "execution_count": 29,
   "metadata": {},
   "outputs": [],
   "source": [
    "xTrain4, xTest4, yTrain4, yTest4 = train_test_split(x_dataset4, y_dataset4, test_size = 0.2, random_state = 0)"
   ]
  },
  {
   "cell_type": "code",
   "execution_count": 30,
   "metadata": {},
   "outputs": [],
   "source": [
    "model = xgb.XGBClassifier()\n",
    "train_model = model.fit(xTrain4, yTrain4)\n"
   ]
  },
  {
   "cell_type": "code",
   "execution_count": 32,
   "metadata": {
    "scrolled": true
   },
   "outputs": [],
   "source": [
    "pred = train_model.predict(xTest4)\n"
   ]
  },
  {
   "cell_type": "code",
   "execution_count": 34,
   "metadata": {},
   "outputs": [
    {
     "name": "stdout",
     "output_type": "stream",
     "text": [
      "             precision    recall  f1-score   support\n",
      "\n",
      "        0.0       0.88      1.00      0.94     26068\n",
      "        1.0       0.00      0.00      0.00      3582\n",
      "\n",
      "avg / total       0.77      0.88      0.82     29650\n",
      "\n"
     ]
    },
    {
     "name": "stderr",
     "output_type": "stream",
     "text": [
      "/opt/conda/lib/python3.6/site-packages/sklearn/metrics/classification.py:1135: UndefinedMetricWarning: Precision and F-score are ill-defined and being set to 0.0 in labels with no predicted samples.\n",
      "  'precision', 'predicted', average, warn_for)\n"
     ]
    }
   ],
   "source": [
    "print(classification_report(yTest4, pred))\n"
   ]
  },
  {
   "cell_type": "code",
   "execution_count": null,
   "metadata": {},
   "outputs": [],
   "source": []
  }
 ],
 "metadata": {
  "kernelspec": {
   "display_name": "Python 3",
   "language": "python",
   "name": "python3"
  },
  "language_info": {
   "codemirror_mode": {
    "name": "ipython",
    "version": 3
   },
   "file_extension": ".py",
   "mimetype": "text/x-python",
   "name": "python",
   "nbconvert_exporter": "python",
   "pygments_lexer": "ipython3",
   "version": "3.6.3"
  }
 },
 "nbformat": 4,
 "nbformat_minor": 2
}
